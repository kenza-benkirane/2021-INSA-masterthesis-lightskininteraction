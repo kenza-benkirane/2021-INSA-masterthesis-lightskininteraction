{
  "nbformat": 4,
  "nbformat_minor": 0,
  "metadata": {
    "colab": {
      "provenance": [],
      "authorship_tag": "ABX9TyPqkOGzP3lnx5J/aV6VPG0i",
      "include_colab_link": true
    },
    "kernelspec": {
      "name": "python3",
      "display_name": "Python 3"
    },
    "language_info": {
      "name": "python"
    }
  },
  "cells": [
    {
      "cell_type": "markdown",
      "metadata": {
        "id": "view-in-github",
        "colab_type": "text"
      },
      "source": [
        "<a href=\"https://colab.research.google.com/github/kenza-benkirane/2021-INSA-masterthesis-lightskininteraction/blob/main/00_PyTorch_Fundamentals.ipynb\" target=\"_parent\"><img src=\"https://colab.research.google.com/assets/colab-badge.svg\" alt=\"Open In Colab\"/></a>"
      ]
    },
    {
      "cell_type": "markdown",
      "source": [
        "## 00. PyTorch Fundamentals\n",
        "\n",
        "Ressource notebook: https://www.learnpytorch.io/00_pytorch_fundamentals/"
      ],
      "metadata": {
        "id": "nLL8FzAhEcs-"
      }
    },
    {
      "cell_type": "code",
      "source": [
        "print(\"Hello World\")"
      ],
      "metadata": {
        "colab": {
          "base_uri": "https://localhost:8080/"
        },
        "id": "7Z5ezd_ZEFzv",
        "outputId": "788cc9da-4c1c-4a46-8b23-68570a4f71f8"
      },
      "execution_count": null,
      "outputs": [
        {
          "output_type": "stream",
          "name": "stdout",
          "text": [
            "Hello World\n"
          ]
        }
      ]
    },
    {
      "cell_type": "code",
      "source": [
        "import torch\n",
        "import pandas as pd\n",
        "import numpy as np\n",
        "import matplotlib.pyplot as plt\n",
        "\n",
        "print(torch.__version__)"
      ],
      "metadata": {
        "colab": {
          "base_uri": "https://localhost:8080/"
        },
        "id": "GccLCSlnEqQt",
        "outputId": "2b6d9929-bcfe-4949-aadf-3f9a280bcbb2"
      },
      "execution_count": null,
      "outputs": [
        {
          "output_type": "stream",
          "name": "stdout",
          "text": [
            "2.1.0+cu118\n"
          ]
        }
      ]
    },
    {
      "cell_type": "markdown",
      "source": [
        "## Introduction to Tensors\n",
        "Tensors: Representresent data, especially multidimensional data\n",
        "\n",
        "###Creating Tensors\n",
        "\n",
        "PyTorch tensors are created using \"torch.Tensor()\" = https://pytorch.org/docs/stable/tensors.html"
      ],
      "metadata": {
        "id": "O0vcCK49Fpi4"
      }
    },
    {
      "cell_type": "code",
      "source": [
        "#scalar\n",
        "scalar=torch.tensor(7)\n",
        "scalar\n",
        "\n",
        "print(\"Dimension is\",scalar.ndim)\n",
        "print(\"Item is\",scalar.item())"
      ],
      "metadata": {
        "colab": {
          "base_uri": "https://localhost:8080/"
        },
        "id": "dGcJnlrDFB7v",
        "outputId": "bae2d9ba-21db-4be0-e8be-431edc90f6ef"
      },
      "execution_count": null,
      "outputs": [
        {
          "output_type": "execute_result",
          "data": {
            "text/plain": [
              "tensor(7)"
            ]
          },
          "metadata": {},
          "execution_count": 10
        }
      ]
    },
    {
      "cell_type": "code",
      "source": [
        "#vector\n",
        "vector=torch.tensor([1,2,3])\n",
        "vector\n",
        "\n",
        "print(\"Dimension is\",vector.ndim)\n",
        "#print(\"Item is\",vector.item())"
      ],
      "metadata": {
        "colab": {
          "base_uri": "https://localhost:8080/"
        },
        "id": "jtHYAI7tHSmg",
        "outputId": "21d400ac-5181-4d9d-c34f-0d80caa77ba9"
      },
      "execution_count": null,
      "outputs": [
        {
          "output_type": "stream",
          "name": "stdout",
          "text": [
            "Dimension is 1\n"
          ]
        }
      ]
    },
    {
      "cell_type": "code",
      "source": [
        "#matrix\n",
        "matrix=torch.tensor([[1,2,3],[4,5,6]])\n",
        "matrix\n",
        "\n",
        "print(\"Dimension is\",matrix.ndim)\n",
        "print(\"Shape is\",matrix.shape)\n",
        "#print(\"Item is\",vector.item())"
      ],
      "metadata": {
        "colab": {
          "base_uri": "https://localhost:8080/"
        },
        "id": "re3uPMRfITqJ",
        "outputId": "ceb99e9f-8c06-4dbc-f7d2-c7dfa2881b40"
      },
      "execution_count": null,
      "outputs": [
        {
          "output_type": "stream",
          "name": "stdout",
          "text": [
            "Dimension is 2\n",
            "Shape is torch.Size([2, 3])\n"
          ]
        }
      ]
    },
    {
      "cell_type": "code",
      "source": [
        "#TENSOR\n",
        "Tensor=torch.tensor([[[2,4,6,8],[10,12,14,16],[18,20,22,24]],[[2,4,6,8],[10,12,14,16],[18,20,22,24]]])\n",
        "Tensor\n",
        "\n",
        "print(\"Dimension is\",Tensor.ndim)\n",
        "print(\"Shape is\",Tensor.shape)\n",
        "print(\"Item is\",vector.item)"
      ],
      "metadata": {
        "colab": {
          "base_uri": "https://localhost:8080/"
        },
        "id": "cT1IaNsjI4ei",
        "outputId": "49a4e5d8-dcb5-40e9-8e60-73a9d06f7c26"
      },
      "execution_count": null,
      "outputs": [
        {
          "output_type": "stream",
          "name": "stdout",
          "text": [
            "Dimension is 3\n",
            "Shape is torch.Size([2, 3, 4])\n",
            "Item is <built-in method item of Tensor object at 0x7c72a3fc91c0>\n"
          ]
        }
      ]
    },
    {
      "cell_type": "code",
      "source": [
        "import torch.nn as nn\n",
        "\n",
        "# Example 1: Creating a Linear Layer\n",
        "input_size = 10  # Number of input features\n",
        "output_size = 5  # Number of output features\n",
        "linear_layer = nn.Linear(input_size, output_size)\n",
        "\n",
        "# Example 2: Applying a Linear Layer to Input Data\n",
        "input_data = torch.randn(1, input_size)  # Creating a random input tensor\n",
        "output_data = linear_layer(input_data)\n"
      ],
      "metadata": {
        "id": "YKqSoi9oLGEb"
      },
      "execution_count": null,
      "outputs": []
    }
  ]
}